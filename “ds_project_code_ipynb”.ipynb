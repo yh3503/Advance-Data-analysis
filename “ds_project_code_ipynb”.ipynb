{
 "nbformat": 4,
 "nbformat_minor": 0,
 "metadata": {
  "colab": {
   "provenance": []
  },
  "kernelspec": {
   "name": "python3",
   "display_name": "Python 3"
  },
  "language_info": {
   "name": "python"
  }
 },
 "cells": [
  {
   "cell_type": "code",
   "execution_count": null,
   "metadata": {
    "id": "aeCaV-DJq2Td",
    "pycharm": {
     "name": "#%%\n"
    }
   },
   "outputs": [],
   "source": [
    "import requests\n",
    "from pathlib import Path\n",
    "import pandas as pd\n",
    "import numpy as np\n",
    "import matplotlib.pyplot as plt\n",
    "import seaborn as sns\n",
    "import numpy as np\n",
    "from sklearn.linear_model import LinearRegression\n",
    "from sklearn.model_selection import train_test_split\n",
    "from sklearn.inspection import PartialDependenceDisplay\n",
    "from sklearn import metrics"
   ]
  },
  {
   "cell_type": "code",
   "source": [
    "import requests\n",
    "from pathlib import Path\n",
    "def download_file(url):\n",
    "\n",
    "    data = requests.get(url)\n",
    "\n",
    "    with open(Path(url).name, 'wb') as f:\n",
    "        f.write(data.content)\n",
    "download_file('https://raw.githubusercontent.com/owid/covid-19-data/master/public/data/owid-covid-data.csv')\n",
    "COVID_DATA = pd.read_csv('owid-covid-data.csv')"
   ],
   "metadata": {
    "id": "tGL-hYWbrAkt",
    "pycharm": {
     "name": "#%%\n"
    }
   },
   "execution_count": null,
   "outputs": []
  },
  {
   "cell_type": "code",
   "source": [
    "COVID_DATA.describe()"
   ],
   "metadata": {
    "id": "q1DZZqJsrC9i",
    "pycharm": {
     "name": "#%%\n"
    }
   },
   "execution_count": null,
   "outputs": []
  },
  {
   "cell_type": "code",
   "source": [
    "COVID_DATA.describe(include=\"O\")\n",
    "COVID_DATA['continent'].unique()"
   ],
   "metadata": {
    "id": "kstgz_n6rEXR",
    "pycharm": {
     "name": "#%%\n"
    }
   },
   "execution_count": null,
   "outputs": []
  },
  {
   "cell_type": "code",
   "source": [
    "COVID_DATA.shape\n",
    "COVID_DATA.iloc[-1]"
   ],
   "metadata": {
    "id": "QkE_x07XrFm6",
    "pycharm": {
     "name": "#%%\n"
    }
   },
   "execution_count": null,
   "outputs": []
  },
  {
   "cell_type": "code",
   "source": [
    "plt.style.use('ggplot')\n",
    "l=list()\n",
    "for i in range(COVID_DATA.shape[0]):\n",
    "    if type(COVID_DATA.continent[i])==float and COVID_DATA.location[i] in [\"North America\",\"South America\",\"Asia\"]:\n",
    "        l.append(i)\n",
    "subdata=COVID_DATA[[\"continent\",\"location\",\"date\",\"new_vaccinations\",'new_vaccinations_smoothed_per_million',\"new_people_vaccinated_smoothed_per_hundred\",'total_boosters_per_hundred','new_deaths_per_million']].iloc[l]\n",
    "subdata.groupby(\"location\").plot(x=\"date\",y=\"new_deaths_per_million\",kind=\"line\",figsize=(8,5),color='b')#project\n"
   ],
   "metadata": {
    "id": "T9ouiaYkrH_i",
    "pycharm": {
     "name": "#%%\n"
    }
   },
   "execution_count": null,
   "outputs": []
  },
  {
   "cell_type": "markdown",
   "source": [
    "The above graphs displays the rate of the number of death new COVID-19 cases per million persons in Asia, North America, and South America from 2020/01 to 2023/04, respectively. We can see the death number is periodic for Asia and North America. Around a quater of year would appear a peak in Asia and half year a peak in North America. And the growth peaks in South America occurred in 2021/07 and 2022/03. For the total number of death, North America is around 5x of Asia and South America is 15x of Asia."
   ],
   "metadata": {
    "id": "DzTLSwXNrKUD",
    "pycharm": {
     "name": "#%% md\n"
    }
   }
  },
  {
   "cell_type": "code",
   "source": [
    "subdata.groupby(\"location\").plot(x=\"new_vaccinations\",y=\"new_deaths_per_million\",kind=\"scatter\",figsize=(8,5),color='r')"
   ],
   "metadata": {
    "id": "1fe8lliH4xSL",
    "pycharm": {
     "name": "#%%\n"
    }
   },
   "execution_count": null,
   "outputs": []
  },
  {
   "cell_type": "markdown",
   "source": [
    "From the below graphs, they display the number of death number new COVID-19 cases per million persons with the new people vaccinatedin Asia, North America and South America from 2020/1 to 2023/04, respectively. We can see that the most remarkable change is in North America. With the new vaccine injection, new cases goes down sharply and become stable. However, for Asia, there is no significant changes with the increase of new vaccinations."
   ],
   "metadata": {
    "id": "pEoYu5VE-TK-",
    "pycharm": {
     "name": "#%% md\n"
    }
   }
  },
  {
   "cell_type": "code",
   "source": [
    "subdata.groupby(\"location\").plot(x=\"total_boosters_per_hundred\",y=\"new_deaths_per_million\",kind=\"scatter\",figsize=(8,5),color='r')#project"
   ],
   "metadata": {
    "id": "Mvjq0CaeGdD7",
    "pycharm": {
     "name": "#%%\n"
    }
   },
   "execution_count": null,
   "outputs": []
  },
  {
   "cell_type": "markdown",
   "source": [
    "The above graphs display they display the number of death number new COVID-19 cases per million persons with the total booster shot per hundred of people shot in Asia, North America and South America from 2020/1 to 2023/04, respectively. As we can see, for Asia and North America, with the increasing number of total boosters, the new death number clearly goes down. However, when it reaches a steady state, the Covid disease impacts on new death number again, which is around 35-40 total boosters. For South America, the new death numbers appear to be stable.\n"
   ],
   "metadata": {
    "id": "ARVK9fqQChy5",
    "pycharm": {
     "name": "#%% md\n"
    }
   }
  },
  {
   "cell_type": "code",
   "source": [
    "subdata.groupby(\"location\").plot(x=\"new_people_vaccinated_smoothed_per_hundred\",y=\"new_deaths_per_million\",kind=\"scatter\",figsize=(8,5),color='r')#project"
   ],
   "metadata": {
    "id": "bKcDCc3grJv_",
    "pycharm": {
     "name": "#%%\n"
    }
   },
   "execution_count": null,
   "outputs": []
  },
  {
   "cell_type": "markdown",
   "source": [
    "From the above graphs, they display the number of death number new COVID-19 cases per million persons with the new people vaccinated smoothed per hundred in Asia, North America and South America from 2020/1 to 2023/04, respectively. We can see that the most remarkable change is in North America. With the new vaccine injection, new cases goes down sharply and become stable."
   ],
   "metadata": {
    "id": "JbxiD1VMrO3Q",
    "pycharm": {
     "name": "#%% md\n"
    }
   }
  },
  {
   "cell_type": "code",
   "source": [
    "subdata2=COVID_DATA.loc[(COVID_DATA.location==\"Brazil\") | (COVID_DATA.location==\"Japan\") | (COVID_DATA.location==\"United States\")]\n",
    "Location=np.sort(subdata2[\"location\"].unique())\n",
    "fig, axes = plt.subplots(1, len(Location), figsize=(24, 4), sharey=True)\n",
    "for ax, loca in zip(axes, Location):\n",
    "    ax.scatter(subdata2[subdata2['location']==loca]['stringency_index'],subdata2[subdata2['location']==loca]['new_deaths_per_million'])\n",
    "    ax.set_xlabel('stringency_index')\n",
    "    ax.set_ylabel('new_deaths_per_million')\n",
    "    ax.set_title(loca)#project"
   ],
   "metadata": {
    "id": "Vo2153f5rN9Q",
    "pycharm": {
     "name": "#%%\n"
    }
   },
   "execution_count": null,
   "outputs": []
  },
  {
   "cell_type": "code",
   "source": [],
   "metadata": {
    "id": "hgft03HQdNO7",
    "pycharm": {
     "name": "#%%\n"
    }
   },
   "execution_count": null,
   "outputs": []
  },
  {
   "cell_type": "markdown",
   "source": [
    "The above three scatter plots show daily new COVID-19 death cases per million people versus the severity of the government's response between 2020/1 to 2023/04 in Brazil, Japan and United States,respectively. It can be seen that the daily new death cases per million in Japan have been relatively low, and there is no obvious dependency. For Brazil, there are many more new daily disease cases than in Japan and there is clear relationship between the government response and daily new cases per million, which is more frequent government response with more cases of death. For United States, as you can see from the plot, daily new cases stable when the government response index is around 30. And evey new cases death reach a peak, when government response, the death cases goes down for a while. In order to further observe the relationship between Japan's government response index and daily new death cases, the above scatter plots are drawn separately.\n"
   ],
   "metadata": {
    "id": "Auo0XUiMrUWI",
    "pycharm": {
     "name": "#%% md\n"
    }
   }
  },
  {
   "cell_type": "code",
   "source": [
    "plt.scatter(subdata2[subdata2['location']==\"Japan\"]['stringency_index'],subdata2[subdata2['location']==\"Japan\"]['new_deaths_per_million'])\n",
    "plt.xlabel('stringency_index')\n",
    "plt.ylabel('new_deaths_per_million')\n",
    "plt.title(\"Japan\")#project"
   ],
   "metadata": {
    "id": "k6MlJGK_rUF4",
    "pycharm": {
     "name": "#%%\n"
    }
   },
   "execution_count": null,
   "outputs": []
  },
  {
   "cell_type": "markdown",
   "source": [
    "Although Japan's daily new mortality cases per million have been very low, we may observe a very intriguing phenomenon: when the daily new cases per million are pretty high, the government response index is very high. We can realize that when the government acts, the epidemic frequently gets worse."
   ],
   "metadata": {
    "id": "duHlO-VyrZcc",
    "pycharm": {
     "name": "#%% md\n"
    }
   }
  },
  {
   "cell_type": "markdown",
   "source": [
    "Using the aforementioned analysis, we can infer some preliminary conclusions about the dataset. Over the previous three years, South America has been the region most affected, followed by North America and then Asia (The indicator assessed is the daily new death cases for covid-19 per million)\n",
    "In South America and Asia, increased vaccination and booster coverage have helped suppress outbreaks, but in North America, they haven't made much of a difference.\n",
    "In some ways, the country's response to the pandemic is reflected in the relationship between the government's response index and the number of daily new cases per million."
   ],
   "metadata": {
    "id": "7r_lJjIZraDs",
    "pycharm": {
     "name": "#%% md\n"
    }
   }
  },
  {
   "cell_type": "markdown",
   "source": [
    "# Model1: Linear Regression"
   ],
   "metadata": {
    "id": "BNAFgPsFtAv4",
    "pycharm": {
     "name": "#%% md\n"
    }
   }
  },
  {
   "cell_type": "markdown",
   "source": [
    "The linear regression model we proposed is :\n",
    "$$E(Y)=\\beta_0+\\beta_1 X_1+ \\beta_2 X_2+\\beta_3 X_2^2$$\n",
    "The explanatory variables $X_i$'s ($i=1,2,3$) are stringency_index, new_people_vaccinated_smoothed_per_hundred in Japan and the response variable $Y$ is the new_deaths_per_million in Japan.\n",
    "\n",
    "The methodolody here to estimated the coefficients is OLS."
   ],
   "metadata": {
    "id": "5RXvO09Orbvl",
    "pycharm": {
     "name": "#%% md\n"
    }
   }
  },
  {
   "cell_type": "code",
   "source": [
    "japan = COVID_DATA.loc[COVID_DATA.location == \"Japan\"]\n",
    "japan_data = japan[[\"new_deaths_per_million\", \"stringency_index\", \"new_people_vaccinated_smoothed_per_hundred\",\"total_boosters_per_hundred\"]]\n",
    "japan_data.dropna(inplace=True)\n",
    "\n",
    "X = japan_data[[\"stringency_index\",\"total_boosters_per_hundred\", \"new_people_vaccinated_smoothed_per_hundred\"]]\n",
    "X[\"squared_vaccinated\"] = X[\"new_people_vaccinated_smoothed_per_hundred\"] ** 2\n",
    "X_values = X.values\n",
    "\n",
    "Y_values = japan_data[[\"new_deaths_per_million\"]].values\n",
    "X_train, X_test, Y_train, Y_test = train_test_split(X_values, Y_values, test_size=0.1, random_state=132)\n",
    "\n",
    "model = LinearRegression().fit(X_train, Y_train)\n",
    "print('coefficient of determination:', model.score(X_train,Y_train))\n",
    "print(\"model coefficients are:\",model.coef_)\n",
    "print(\"model intercept is:\",model.intercept_)\n",
    "y_pred = model.predict(X_test)\n",
    "MSE=metrics.mean_squared_error(Y_test, y_pred)\n",
    "RMSE = MSE**0.5\n",
    "MAE=metrics.mean_absolute_error(Y_test, y_pred)\n",
    "print(\"RMSE:\",RMSE)\n",
    "print(\"MSE:\",MSE)\n",
    "print(\"MAE:\",MAE)"
   ],
   "metadata": {
    "id": "b5RYgYEErSUN",
    "pycharm": {
     "name": "#%%\n"
    }
   },
   "execution_count": null,
   "outputs": []
  },
  {
   "cell_type": "markdown",
   "source": [
    "Therefore, the estimated regression model is $$E(Y)=-0.0404X_1+0.1628X_2-0.1464X_2^2$$\n",
    "\n",
    "The RMSE, MSE and MAE on the test dataset are 0.6192, 0.3834 and 0.5079 respectively."
   ],
   "metadata": {
    "id": "yxuhzKIDrmuv",
    "pycharm": {
     "name": "#%% md\n"
    }
   }
  },
  {
   "cell_type": "code",
   "source": [
    "# check residual normality\n",
    "import statsmodels.api as sm\n",
    "import scipy.stats as stats\n",
    "residuals=Y_train - model.predict(X_train)\n",
    "Shapiro_test =stats.shapiro(residuals)\n",
    "print(\"The Shapiro test for the normality is:\",Shapiro_test[0])\n",
    "print(\"The p-value of the test is:\",(Shapiro_test[1]))\n",
    "fitted=model.predict(X_train)\n",
    "plt.figure()\n",
    "plt.scatter(fitted,residuals)\n",
    "plt.xlabel(\"Fitted Values\")\n",
    "plt.ylabel(\"Residuals\")\n",
    "plt.show()"
   ],
   "metadata": {
    "id": "m-pNVMg8umDq",
    "pycharm": {
     "name": "#%%\n"
    }
   },
   "execution_count": null,
   "outputs": []
  },
  {
   "cell_type": "code",
   "source": [
    "sns.kdeplot(data=residuals ,fill= True,bw_adjust=1.5 )"
   ],
   "metadata": {
    "id": "pBfli5ZG1JbA",
    "pycharm": {
     "name": "#%%\n"
    }
   },
   "execution_count": null,
   "outputs": []
  },
  {
   "cell_type": "markdown",
   "source": [
    "The result of Shapiro test for the normality as follows:0.9648 with the p-value of 0.000000 ( significantly smaller than any significance level). Our interpretation for the result is the residuals does not follow normal distribution\n",
    "\n",
    "Now we are checking the assumption of homogeneity of variance. According to the residual vs fitted value plot, we observed that the dots are randomly scattered, which satisfies the criterion of homogeneous variance. Hence, the assumption is not violated."
   ],
   "metadata": {
    "id": "a1bXo4-hv189",
    "pycharm": {
     "name": "#%% md\n"
    }
   }
  },
  {
   "cell_type": "markdown",
   "source": [
    "# Multiple Linear Regression"
   ],
   "metadata": {
    "id": "rLXO-QpQs6wJ",
    "pycharm": {
     "name": "#%% md\n"
    }
   }
  },
  {
   "cell_type": "markdown",
   "source": [
    "We proposed another model: the multiple linear regression model:\n",
    "\n",
    "$$E(Y)=\\beta_0+\\beta_1 X_1+ \\beta_2 X_2+\\beta_3 X_3 + \\beta_4 X_4$$\n",
    "\n",
    "$X_1$ is the number of people older than 70 in Japan, $X_2$ is the the gdp per capita in Japan, $X_3$ is the total cases percent in Japan, $X_4$ is the population in Japan, $Y$ is the total deaths in Japan.\n"
   ],
   "metadata": {
    "id": "Wf9Pc-PIw_Wn",
    "pycharm": {
     "name": "#%% md\n"
    }
   }
  },
  {
   "cell_type": "code",
   "source": [
    "\n",
    "import warnings\n",
    "warnings.filterwarnings(\"ignore\")\n",
    "\n",
    "covid = japan\n",
    "\n",
    "covid=covid.loc[pd.isna(covid[\"continent\"])==False]\n",
    "covid=covid.loc[covid.total_cases.isna()==False]\n",
    "covid_reg=covid[[\"total_cases\",\"total_deaths\",\"median_age\",\"aged_70_older\",\"population\",\"stringency_index\"]]\n",
    "covid_reg.dropna(inplace=True)\n",
    "covid_reg['total_cases_percent']=covid_reg['total_cases']*100/covid_reg['population']\n",
    "covid_reg['total_deaths_percent']=covid_reg['total_deaths']*100/covid_reg['population']\n",
    "covid_reg.corr()"
   ],
   "metadata": {
    "id": "sSfUD5JpRe76",
    "pycharm": {
     "name": "#%%\n"
    }
   },
   "execution_count": null,
   "outputs": []
  },
  {
   "cell_type": "code",
   "source": [
    "\n",
    "import statsmodels.api as sm\n",
    "x=covid_reg[[\"median_age\", \"aged_70_older\",\"stringency_index\", \"total_deaths_percent\"]]\n",
    "x=sm.add_constant(x)\n",
    "y=covid_reg[\"total_cases_percent\"]\n",
    "model=sm.OLS(y,x).fit()\n",
    "print(model.summary())\n",
    "mae=np.sum(np.abs(y-model.fittedvalues))/1053\n",
    "print(\"RMSE:\",(model.mse_resid*1048/1053)**0.5)\n",
    "print(\"MSE:\",model.mse_resid*1048/1053)\n",
    "print(\"MAE:\",mae)\n"
   ],
   "metadata": {
    "id": "TyZh6hR3yWsj",
    "pycharm": {
     "name": "#%%\n"
    }
   },
   "execution_count": null,
   "outputs": []
  },
  {
   "cell_type": "code",
   "source": [
    "import pandas as pd\n",
    "import numpy as np\n",
    "from sklearn.model_selection import train_test_split\n",
    "import statsmodels.api as sm\n",
    "wellness = covid_reg\n",
    "wellness.dropna(inplace=True)\n",
    "wellness=wellness.sample(wellness.shape[0]//2, ignore_index=True)\n",
    "wellness = wellness.drop(columns=['population','total_cases','total_deaths'])\n",
    "wellness = wellness.astype('float32')\n",
    "wellness.tail(5)\n",
    "xw = wellness[[\"median_age\",\"aged_70_older\",\"stringency_index\",\"total_deaths_percent\"]]\n",
    "yw = wellness[\"total_cases_percent\"]\n",
    "xw = sm.add_constant(xw)\n",
    "xw_train, xw_test, yw_train, yw_test = train_test_split(xw, yw, test_size=0.2,random_state=42)"
   ],
   "metadata": {
    "id": "qol-UsIUNVsc",
    "pycharm": {
     "name": "#%%\n"
    }
   },
   "execution_count": null,
   "outputs": []
  },
  {
   "cell_type": "code",
   "source": [
    "model_new = sm.OLS(yw_train, xw_train).fit()\n",
    "\n",
    "yw_pred = model_new.predict(xw_test)\n",
    "mse_w = np.mean(abs(yw_pred - yw_test))\n",
    "mse_w\n",
    "\n",
    "model_new.summary()"
   ],
   "metadata": {
    "id": "B4FpHuCJwIf0",
    "pycharm": {
     "name": "#%%\n"
    }
   },
   "execution_count": null,
   "outputs": []
  },
  {
   "cell_type": "code",
   "source": [
    "residuals_w=yw_train - model_new.predict(xw_train)\n",
    "sns.kdeplot(data=residuals_w ,fill= True,bw_adjust=1.5 )"
   ],
   "metadata": {
    "id": "IrRSZIvyxbnd",
    "pycharm": {
     "name": "#%%\n"
    }
   },
   "execution_count": null,
   "outputs": []
  },
  {
   "cell_type": "code",
   "source": [
    "fitted_w=model_new.predict(xw_train)\n",
    "plt.figure()\n",
    "plt.scatter(fitted_w,residuals_w)\n",
    "plt.xlabel(\"Fitted Values\")\n",
    "plt.ylabel(\"Residuals\")\n",
    "plt.show()"
   ],
   "metadata": {
    "id": "5UgcAga34DF5",
    "pycharm": {
     "name": "#%%\n"
    }
   },
   "execution_count": null,
   "outputs": []
  },
  {
   "cell_type": "code",
   "source": [],
   "metadata": {
    "id": "8uyqazsAyWi0",
    "pycharm": {
     "name": "#%%\n"
    }
   },
   "execution_count": null,
   "outputs": []
  },
  {
   "cell_type": "markdown",
   "source": [
    "# TimeSeries"
   ],
   "metadata": {
    "id": "6EwoDFwWrNEQ",
    "pycharm": {
     "name": "#%% md\n"
    }
   }
  },
  {
   "cell_type": "code",
   "source": [
    "from statsmodels.tsa.arima.model import ARIMA\n"
   ],
   "metadata": {
    "id": "v8h7DxQ7rR4e",
    "pycharm": {
     "name": "#%%\n"
    }
   },
   "execution_count": null,
   "outputs": []
  },
  {
   "cell_type": "code",
   "source": [
    "death_data = COVID_DATA.loc[COVID_DATA.location == \"Japan\"]\n",
    "death_data.index = death_data.date\n",
    "death_data = death_data.new_deaths_per_million\n",
    "death_data.index = pd.to_datetime(death_data.index)"
   ],
   "metadata": {
    "id": "qmRdsWoDfEV-",
    "pycharm": {
     "name": "#%%\n"
    }
   },
   "execution_count": null,
   "outputs": []
  },
  {
   "cell_type": "code",
   "source": [
    "death_data.plot()"
   ],
   "metadata": {
    "id": "vSrfjG3ofnM8",
    "pycharm": {
     "name": "#%%\n"
    }
   },
   "execution_count": null,
   "outputs": []
  },
  {
   "cell_type": "code",
   "source": [
    "p = 1\n",
    "d = 1\n",
    "q = 0\n",
    "\n",
    "model = ARIMA(death_data, order = (p,d,q))\n",
    "model_fit = model.fit()\n",
    "model_fit.summary()"
   ],
   "metadata": {
    "id": "zJaQj5hphgTv",
    "pycharm": {
     "name": "#%%\n"
    }
   },
   "execution_count": null,
   "outputs": []
  },
  {
   "cell_type": "markdown",
   "source": [
    "\n",
    "In conclusion, the ARIMA(1, 1, 0) model has a low AIC and BIC, which indicates our model is well-fitted. The residual diagnostics, however, point to problems with heteroscedasticity, heavy tails, and potential normality."
   ],
   "metadata": {
    "id": "QxBHcamSh1Fs",
    "pycharm": {
     "name": "#%% md\n"
    }
   }
  },
  {
   "cell_type": "code",
   "source": [
    "pred_step = 100\n",
    "pred = model_fit.get_forecast(steps = pred_step)\n",
    "\n",
    "# Confidence intervals for the forecast\n",
    "confidence_intervals = pred.conf_int()"
   ],
   "metadata": {
    "id": "K67l_arshQNe",
    "pycharm": {
     "name": "#%%\n"
    }
   },
   "execution_count": null,
   "outputs": []
  },
  {
   "cell_type": "code",
   "source": [
    "confidence_intervals['lower new_deaths_per_million'] = 0"
   ],
   "metadata": {
    "id": "-kn-ctwWjuCJ",
    "pycharm": {
     "name": "#%%\n"
    }
   },
   "execution_count": null,
   "outputs": []
  },
  {
   "cell_type": "code",
   "source": [
    "plt.figure(figsize=(12, 6))\n",
    "plt.plot(pred.predicted_mean.index, pred.predicted_mean, label='Prediction', color='r')\n",
    "death_data.plot(color = 'blue')\n",
    "plt.fill_between(confidence_intervals.index, confidence_intervals.iloc[:, 0], confidence_intervals.iloc[:, 1], color='pink')\n",
    "plt.xlabel('Date')\n",
    "plt.ylabel('Death per million')\n",
    "plt.title('Covid Death Counts in Japan')\n",
    "plt.legend()\n",
    "plt.show()"
   ],
   "metadata": {
    "id": "Ah6OC-w_iArP",
    "pycharm": {
     "name": "#%%\n"
    }
   },
   "execution_count": null,
   "outputs": []
  },
  {
   "cell_type": "code",
   "source": [
    "\n"
   ],
   "metadata": {
    "id": "bx_XTs2pUnNx",
    "pycharm": {
     "name": "#%%\n"
    }
   },
   "execution_count": null,
   "outputs": []
  }
 ]
}